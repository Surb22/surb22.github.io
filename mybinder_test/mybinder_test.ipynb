{
 "cells": [
  {
   "cell_type": "code",
   "execution_count": null,
   "metadata": {
    "collapsed": true
   },
   "outputs": [],
   "source": [
    "\n",
    "import pandas as pd\n",
    "import bqplot\n",
    "import numpy as np\n",
    "import ipywidgets"
   ]
  },
  {
   "cell_type": "code",
   "execution_count": null,
   "outputs": [],
   "source": [
    "buildings = pd.read_csv('https://uiuc-ischool-dataviz.github.io/is445_AOUAOG_fall2021/week02/data/building_inventory.csv',\n",
    "               na_values={'Square Footage': 0,\n",
    "                         'Year Acquired': 0,\n",
    "                         'Year Constructed': 0,\n",
    "                         'Floors':0}\n",
    "                       )"
   ],
   "metadata": {
    "collapsed": false,
    "pycharm": {
     "name": "#%%\n"
    }
   }
  },
  {
   "cell_type": "markdown",
   "source": [
    "Here, I imported the complete building dataset and replaced '0' in columns like Square footage, Year Acquired, Year Constructed, Floors with NaN. I have not made any transformations for the NaN values in the County column."
   ],
   "metadata": {
    "collapsed": false
   }
  },
  {
   "cell_type": "code",
   "execution_count": null,
   "outputs": [],
   "source": [
    "buildings"
   ],
   "metadata": {
    "collapsed": false,
    "pycharm": {
     "name": "#%%\n"
    }
   }
  },
  {
   "cell_type": "markdown",
   "source": [
    "##### Plotting barplot"
   ],
   "metadata": {
    "collapsed": false
   }
  },
  {
   "cell_type": "markdown",
   "source": [
    "The right component of the dashboard is a barplot as we need to plot- Year Vs Total Square footage."
   ],
   "metadata": {
    "collapsed": false
   }
  },
  {
   "cell_type": "code",
   "execution_count": null,
   "outputs": [],
   "source": [
    "\n",
    "#1. Data. Grouping the data according to the year and calculating the total square footage in that year.\n",
    "buildings_barplot = buildings.groupby(['Year Acquired'])['Square Footage'].sum()\n",
    "years = buildings_barplot.index\n",
    "area = buildings_barplot.values\n",
    "\n",
    "# 2. Scales\n",
    "x_scb = bqplot.OrdinalScale() # as these are years so we can categorise the data hence an ordinal scale is used\n",
    "y_scb = bqplot.LinearScale() #as these are sum of square footages, I used a linear scale\n",
    "\n",
    "# 3. Marks\n",
    "bar = bqplot.Bars(x = years ,y = np.log10(area), scales={'x': x_scb, 'y': y_scb})\n",
    "#transformed the area by taking log10, as the range for the total area over years was large\n",
    "\n",
    "# 4. Axis\n",
    "x_axb = bqplot.Axis(scale = x_scb, label='Year Acquired', tick_rotate=90, tick_style={'font-size':'3px'})\n",
    "#Rotated and changed the size of the ticks as for some plots they might overlap. Would like to\n",
    "#experiment more with font size if it could change depending on the number of values to be displayed on x axis.\n",
    "y_axb = bqplot.Axis(scale = y_scb, orientation = 'vertical', label = 'Square footage (log)',label_offset='40px')\n",
    "\n",
    "# 5. Interactions\n",
    "# No interactions for barplot\n",
    "\n",
    "# 6. Figure object\n",
    "fig_barplot = bqplot.Figure(marks=[bar], axes=[x_axb, y_axb])"
   ],
   "metadata": {
    "collapsed": false,
    "pycharm": {
     "name": "#%%\n"
    }
   }
  },
  {
   "cell_type": "markdown",
   "source": [
    "Data transformations for plotting heatmap:\n",
    "\n",
    "Here, I created a pivot table which has the county as the index and the columns names are the agencies. The values in the table are mean of square footage area. Creating this table is necessary as it provides value for each block of the heatmap.\n"
   ],
   "metadata": {
    "collapsed": false
   }
  },
  {
   "cell_type": "code",
   "execution_count": null,
   "outputs": [],
   "source": [
    "buildings_heatmap =pd.pivot_table(buildings, index = 'County', columns = 'Agency Name', values = 'Square Footage', aggfunc = 'mean')\n",
    "agency_list = buildings_heatmap.columns.values.tolist()\n",
    "buildings_heatmap= np.log10(buildings_heatmap) ## transformed all the values in the pivot table by taking log10\n"
   ],
   "metadata": {
    "collapsed": false,
    "pycharm": {
     "name": "#%%\n"
    }
   }
  },
  {
   "cell_type": "code",
   "execution_count": null,
   "outputs": [],
   "source": [
    "buildings_heatmap"
   ],
   "metadata": {
    "collapsed": false,
    "pycharm": {
     "name": "#%%\n"
    }
   }
  },
  {
   "cell_type": "markdown",
   "source": [
    "##### Plotting Heatmap"
   ],
   "metadata": {
    "collapsed": false
   }
  },
  {
   "cell_type": "code",
   "execution_count": null,
   "outputs": [],
   "source": [
    "# heatmap\n",
    "# 1. data = buildings_heatmap table created above\n",
    "# 2. Scales\n",
    "col_sc = bqplot.ColorScale(scheme = 'Spectral')\n",
    "x_sc = bqplot.OrdinalScale()\n",
    "y_sc = bqplot.OrdinalScale()\n",
    "\n",
    "# 3. Marks. Here I passed agency list as the columns and county names as the rows.\n",
    "heat_map = bqplot.GridHeatMap(row = buildings_heatmap.index,\n",
    "                              column = agency_list,\n",
    "                              color=buildings_heatmap, scales={'color':col_sc, 'row':y_sc, 'column':x_sc},\n",
    "                             interactions={'click':'select'},\n",
    "                             anchor_style={'fill':'blue'})\n",
    "\n",
    "# 4. Axis\n",
    "c_ax = bqplot.ColorAxis(scale=col_sc, orientation='vertical', side='right')\n",
    "\n",
    "\n",
    "x_ax = bqplot.Axis(scale = x_sc, label='County', label_offset='55px',\n",
    "                  tick_rotate=90,\n",
    "                   tick_style={'font-size':'8px'})\n",
    "#Rotated and resized the ticks as they were overlapping. Used label offset so that the label is clearly visible and away from the ticks.\n",
    "y_ax = bqplot.Axis(scale = y_sc,\n",
    "                   orientation = 'vertical',\n",
    "                   label = 'Agency Name',\n",
    "                  tick_style={'font-size':'3.5px'})\n",
    "\n",
    "# 5. Interactions\n",
    "def on_selected(change):\n",
    "    if len(change['owner'].selected) == 1:\n",
    "        i,j = change['owner'].selected[0] ## saving the coordinates selected by the user\n",
    "        mask = (buildings['Agency Name'] == buildings_heatmap.columns[j] ) & \\\n",
    "            (buildings['County'] == buildings_heatmap.index[i])\n",
    "        # generating a boolean mask by selecting the data that matches the county and the agency as selected by the user\n",
    "        buildings_subset = buildings[mask]\n",
    "        # creating a subset of the data selected by the user from the main buildings data\n",
    "        grouped = buildings_subset.groupby(\"Year Acquired\")[\"Square Footage\"].sum()\n",
    "        years = grouped.index\n",
    "        area = grouped.values\n",
    "        #making these changes in the barplot when a cell is selected\n",
    "        bar.x = years\n",
    "        bar.y = area\n",
    "\n",
    "heat_map.observe(on_selected, 'selected') #interaction with the heatmap when a cell is selected\n",
    "\n",
    "# 6. Figure object\n",
    "fig_heatmap = bqplot.Figure(marks=[heat_map], axes=[c_ax, x_ax, y_ax])\n"
   ],
   "metadata": {
    "collapsed": false,
    "pycharm": {
     "name": "#%%\n"
    }
   }
  },
  {
   "cell_type": "markdown",
   "source": [
    "##### Creating the dashboard"
   ],
   "metadata": {
    "collapsed": false
   }
  },
  {
   "cell_type": "markdown",
   "source": [
    "Displaying the two plots created above."
   ],
   "metadata": {
    "collapsed": false
   }
  },
  {
   "cell_type": "code",
   "execution_count": null,
   "outputs": [],
   "source": [
    "fig_heatmap.layout.min_width='500px'\n",
    "fig_barplot.layout.min_width = '500px'\n",
    "figures = ipywidgets.HBox([fig_heatmap, fig_barplot])\n",
    "\n",
    "myDashboard = ipywidgets.VBox([ figures])\n",
    "myDashboard\n"
   ],
   "metadata": {
    "collapsed": false,
    "pycharm": {
     "name": "#%%\n"
    }
   }
  }
 ],
 "metadata": {
  "kernelspec": {
   "display_name": "Python 3",
   "language": "python",
   "name": "python3"
  },
  "language_info": {
   "codemirror_mode": {
    "name": "ipython",
    "version": 2
   },
   "file_extension": ".py",
   "mimetype": "text/x-python",
   "name": "python",
   "nbconvert_exporter": "python",
   "pygments_lexer": "ipython2",
   "version": "2.7.6"
  }
 },
 "nbformat": 4,
 "nbformat_minor": 0
}